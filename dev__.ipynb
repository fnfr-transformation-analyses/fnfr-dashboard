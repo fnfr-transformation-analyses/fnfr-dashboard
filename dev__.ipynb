{
 "cells": [
  {
   "cell_type": "code",
   "execution_count": 55,
   "metadata": {},
   "outputs": [],
   "source": [
    "import pandas as pd\n",
    "import plotly\n",
    "import plotly_express as px\n",
    "from slugify import slugify\n",
    "from utils.utils import *\n",
    "\n",
    "tableClasses = ['table', 'table-hover']\n",
    "\n",
    "# #### Répartition des chercheurs (nombre de co-Pis, co-candidats, collaborateurs, etc.)\n",
    "chercheurs  = pd.read_excel('data/fnfr_transformation_chercheur-e-s.xlsx')\n",
    "\n",
    "#### Répartition géographique\n",
    "## Répartition internationale\n",
    "# charger le mapping des pays qui sera utilisé pour construire la figure\n",
    "mappingPays = pd.read_csv('utils/mapping_pays_iso.csv', sep=';', encoding='UTF-8').to_dict('records')\n",
    "mappingPays = {x['Pays'] : x['Alpha-3 code'] for x in mappingPays}\n",
    "\n",
    "# Charger les données\n",
    "affiliations = pd.read_csv('data/affiliationsChercheurs.csv')\n",
    "affiliations = affiliations[affiliations['Pays'] != '-']\n",
    "affiliations['Code Alpha-3 Pays'] = affiliations['Pays'].map(mappingPays)\n",
    "\n",
    "def generate_geo_figure(df: pd.DataFrame) -> plotly.graph_objs._figure.Figure:\n",
    "    figPays = px.scatter_geo(\n",
    "        df, \n",
    "        locations=\"Code Alpha-3 Pays\",\n",
    "        locationmode = 'ISO-3',\n",
    "        hover_name = 'Pays',\n",
    "        size=\"count\",\n",
    "        size_max = 50,\n",
    "        height=440,\n",
    "        projection = 'equirectangular',\n",
    "    )\n",
    "\n",
    "    # Customize the layout\n",
    "    figPays.update_geos(\n",
    "        showcoastlines=False,  # Hide coastlines/borders\n",
    "        showland=True,  # Hide land area color\n",
    "        landcolor = '#E8E8E8',\n",
    "        showframe=True,  # Hide frame/borders\n",
    "        projection_scale = 1.125,  # Adjust the projection scale to fit the map better\n",
    "        center=dict(lon=20, lat=18),  # Set the center of the map to exclude Antarctica\n",
    "    )\n",
    "\n",
    "    figPays = figPays.update_layout( \n",
    "        margin=dict(t=0, l=0, r=0, b=0),\n",
    "        title_x=0.2, \n",
    "    )\n",
    "\n",
    "    return figPays\n",
    "\n",
    "# Générer les figures\n",
    "figs = []\n",
    "tablesFreq = {}\n",
    "mappingTables = {'count': 'N'}\n",
    "\n",
    "# Figure - Tous les projets \n",
    "# Tableau de fréquence \n",
    "freqPays = pd.DataFrame(affiliations['Pays'].value_counts()).reset_index()\n",
    "freqPays['Code Alpha-3 Pays'] = freqPays['Pays'].map(mappingPays)\n",
    "freqPays = freqPays[['Pays', 'Code Alpha-3 Pays', 'count']]\n",
    "\n",
    "with open('figures/geo/international/all.html', 'w') as f:\n",
    "    f.write(generate_geo_figure(freqPays).to_html(full_html=False, include_plotlyjs='cdn'))\n",
    "\n",
    "figs.append(\n",
    "    {\n",
    "        'Nom': 'Tout',\n",
    "        'Fichier': 'figures/geo/all.html'\n",
    "    }\n",
    ")\n",
    "\n",
    "# Create the table to display aside from the figure\n",
    "tableF = freqPays.rename(columns = mappingTables)\n",
    "tableF = tableF.sort_values(by=['N'], ascending=[False])[['Pays', 'N']]\n",
    "tablesFreq[f\"figures/geo/all.html\"] = tableF.to_html(classes = tableClasses, justify='left', index=False)\n",
    "\n",
    "# Figures - Par concours\n",
    "freqPaysConcours = affiliations.groupby(['concours', 'Pays', 'Code Alpha-3 Pays'])['chercheur'].count().reset_index()\n",
    "freqPaysConcours = freqPaysConcours.rename(columns={'chercheur': 'count'})\n",
    "\n",
    "for c in freqPaysConcours['concours'].unique():\n",
    "    subdf = freqPaysConcours[freqPaysConcours['concours'] == c]\n",
    "\n",
    "    with open(f'figures/geo/{c}.html', 'w') as f:\n",
    "        f.write(generate_geo_figure(subdf).to_html(full_html=False, include_plotlyjs='cdn'))\n",
    "\n",
    "    figs.append(\n",
    "        {\n",
    "            'Nom': c,\n",
    "            'Fichier': f'figures/geo/international/{c}.html'\n",
    "        }\n",
    "    ) \n",
    "\n",
    "    subdf = subdf[['Pays', 'count']].sort_values(by='count', ascending=False)\n",
    "    \n",
    "    # Create the table to display aside from the figure\n",
    "    tableF = subdf.rename(columns = mappingTables)\n",
    "\n",
    "    tableF = tableF.sort_values(by=['N'], ascending=[False])\n",
    "    tablesFreq[f\"figures/geo/international/{c}.html\"] = tableF.to_html(classes = tableClasses, justify='left', index=False)\n",
    "\n",
    "    # Figures - Par projet\n",
    "    freqPaysProjets = affiliations.groupby(['projet', 'concours', 'Pays', 'Code Alpha-3 Pays'])['chercheur'].count().reset_index()\n",
    "    freqPaysProjets = freqPaysProjets[freqPaysProjets['concours'] == c]\n",
    "    freqPaysProjets = freqPaysProjets.rename(columns={'chercheur': 'count'})\n",
    "\n",
    "    for p in freqPaysProjets['projet'].unique():\n",
    "        slugifiedName = slugify(p)[:30]\n",
    "\n",
    "        ssubdf = freqPaysProjets[freqPaysProjets['projet'] == p]\n",
    "\n",
    "        with open(f'figures/geo/international/{slugifiedName}.html', 'w') as f:\n",
    "            f.write(generate_geo_figure(ssubdf).to_html(full_html=False, include_plotlyjs='cdn'))\n",
    "\n",
    "        figs.append(\n",
    "            {\n",
    "                'Nom': f\"{c} -- {p}\",\n",
    "                'Fichier': f'figures/geo/international/{slugifiedName}.html'\n",
    "            }\n",
    "        ) \n",
    "\n",
    "        ssubdf = ssubdf[['Pays', 'count']].sort_values(by='count', ascending=False)\n",
    "        \n",
    "        # Create the table to display aside from the figure\n",
    "        tableF = ssubdf.rename(columns = mappingTables)\n",
    "\n",
    "        tableF = tableF.sort_values(by=['N'], ascending=[False])\n",
    "        tablesFreq[f\"figures/geo/international/{slugifiedName}.html\"] = tableF.to_html(classes = tableClasses, justify='left', index=False)\n",
    "\n",
    "tablesFreq = str(tablesFreq)\n"
   ]
  },
  {
   "cell_type": "code",
   "execution_count": 56,
   "metadata": {},
   "outputs": [
    {
     "data": {
      "text/html": [
       "<div>\n",
       "<style scoped>\n",
       "    .dataframe tbody tr th:only-of-type {\n",
       "        vertical-align: middle;\n",
       "    }\n",
       "\n",
       "    .dataframe tbody tr th {\n",
       "        vertical-align: top;\n",
       "    }\n",
       "\n",
       "    .dataframe thead th {\n",
       "        text-align: right;\n",
       "    }\n",
       "</style>\n",
       "<table border=\"1\" class=\"dataframe\">\n",
       "  <thead>\n",
       "    <tr style=\"text-align: right;\">\n",
       "      <th></th>\n",
       "      <th>Province</th>\n",
       "      <th>count</th>\n",
       "      <th>Latitude</th>\n",
       "      <th>Longitude</th>\n",
       "      <th>code-ISO province</th>\n",
       "    </tr>\n",
       "  </thead>\n",
       "  <tbody>\n",
       "    <tr>\n",
       "      <th>0</th>\n",
       "      <td>Ontario</td>\n",
       "      <td>195</td>\n",
       "      <td>50.000000</td>\n",
       "      <td>-85.000000</td>\n",
       "      <td>CA-ON</td>\n",
       "    </tr>\n",
       "    <tr>\n",
       "      <th>1</th>\n",
       "      <td>Colombie-Britannique</td>\n",
       "      <td>65</td>\n",
       "      <td>53.726669</td>\n",
       "      <td>-127.647621</td>\n",
       "      <td>CA-BC</td>\n",
       "    </tr>\n",
       "    <tr>\n",
       "      <th>2</th>\n",
       "      <td>Québec</td>\n",
       "      <td>59</td>\n",
       "      <td>53.000000</td>\n",
       "      <td>-70.000000</td>\n",
       "      <td>CA-QC</td>\n",
       "    </tr>\n",
       "    <tr>\n",
       "      <th>3</th>\n",
       "      <td>Alberta</td>\n",
       "      <td>44</td>\n",
       "      <td>55.000000</td>\n",
       "      <td>-115.000000</td>\n",
       "      <td>CA-AB</td>\n",
       "    </tr>\n",
       "    <tr>\n",
       "      <th>4</th>\n",
       "      <td>Terre-Neuve-et-Labrador</td>\n",
       "      <td>22</td>\n",
       "      <td>53.135509</td>\n",
       "      <td>-57.660435</td>\n",
       "      <td>CA-NL</td>\n",
       "    </tr>\n",
       "    <tr>\n",
       "      <th>5</th>\n",
       "      <td>Territoires du Nord-Ouest</td>\n",
       "      <td>18</td>\n",
       "      <td>62.453972</td>\n",
       "      <td>-114.371788</td>\n",
       "      <td>CA-NT</td>\n",
       "    </tr>\n",
       "    <tr>\n",
       "      <th>6</th>\n",
       "      <td>Nouvelle-Écosse</td>\n",
       "      <td>12</td>\n",
       "      <td>45.000000</td>\n",
       "      <td>-63.000000</td>\n",
       "      <td>CA-NS</td>\n",
       "    </tr>\n",
       "    <tr>\n",
       "      <th>7</th>\n",
       "      <td>Manitoba</td>\n",
       "      <td>8</td>\n",
       "      <td>56.415211</td>\n",
       "      <td>-98.739075</td>\n",
       "      <td>CA-MB</td>\n",
       "    </tr>\n",
       "    <tr>\n",
       "      <th>8</th>\n",
       "      <td>Yukon</td>\n",
       "      <td>7</td>\n",
       "      <td>64.000000</td>\n",
       "      <td>-135.000000</td>\n",
       "      <td>CA-YT</td>\n",
       "    </tr>\n",
       "    <tr>\n",
       "      <th>9</th>\n",
       "      <td>Saskatchewan</td>\n",
       "      <td>4</td>\n",
       "      <td>55.000000</td>\n",
       "      <td>-106.000000</td>\n",
       "      <td>CA-SK</td>\n",
       "    </tr>\n",
       "    <tr>\n",
       "      <th>10</th>\n",
       "      <td>Nunavut</td>\n",
       "      <td>2</td>\n",
       "      <td>70.453262</td>\n",
       "      <td>-86.798981</td>\n",
       "      <td>CA-NU</td>\n",
       "    </tr>\n",
       "    <tr>\n",
       "      <th>11</th>\n",
       "      <td>Nouveau-Brunswick</td>\n",
       "      <td>2</td>\n",
       "      <td>46.498390</td>\n",
       "      <td>-66.159668</td>\n",
       "      <td>CA-NB</td>\n",
       "    </tr>\n",
       "  </tbody>\n",
       "</table>\n",
       "</div>"
      ],
      "text/plain": [
       "                     Province  count   Latitude   Longitude code-ISO province\n",
       "0                     Ontario    195  50.000000  -85.000000             CA-ON\n",
       "1        Colombie-Britannique     65  53.726669 -127.647621             CA-BC\n",
       "2                      Québec     59  53.000000  -70.000000             CA-QC\n",
       "3                     Alberta     44  55.000000 -115.000000             CA-AB\n",
       "4     Terre-Neuve-et-Labrador     22  53.135509  -57.660435             CA-NL\n",
       "5   Territoires du Nord-Ouest     18  62.453972 -114.371788             CA-NT\n",
       "6             Nouvelle-Écosse     12  45.000000  -63.000000             CA-NS\n",
       "7                    Manitoba      8  56.415211  -98.739075             CA-MB\n",
       "8                       Yukon      7  64.000000 -135.000000             CA-YT\n",
       "9                Saskatchewan      4  55.000000 -106.000000             CA-SK\n",
       "10                    Nunavut      2  70.453262  -86.798981             CA-NU\n",
       "11          Nouveau-Brunswick      2  46.498390  -66.159668             CA-NB"
      ]
     },
     "execution_count": 56,
     "metadata": {},
     "output_type": "execute_result"
    }
   ],
   "source": [
    "## Répartition pancanadienne\n",
    "mapping_provinces = pd.read_csv('utils/mapping_provinces_canada_iso.csv')\n",
    "mapping_provinces = mapping_provinces[mapping_provinces['Language code'] == 'fr']\n",
    "mapping_provinces = {x['Subdivision name'] : x['3166-2 code'] for x in mapping_provinces.to_dict('records')}\n",
    "\n",
    "province_info = pd.read_csv('utils/provinces_canada_coordinates.csv')\n",
    "province_info['code-ISO province'] = province_info['Place Name'].map(mapping_provinces)\n",
    "province_info = province_info.rename(columns={'Place Name': 'Province'})\n",
    "\n",
    "affiliationsCanada = affiliations[affiliations['Pays'] == 'Canada']\n",
    "affiliationsCanada = affiliationsCanada.merge(province_info, on='Province')\n",
    "\n",
    "freqProvinces = pd.DataFrame(affiliationsCanada['Province'].value_counts()).reset_index()\n",
    "freqProvinces = freqProvinces.merge(province_info, on='Province')\n",
    "\n",
    "freqProvinces"
   ]
  },
  {
   "cell_type": "code",
   "execution_count": 57,
   "metadata": {},
   "outputs": [
    {
     "data": {
      "application/vnd.plotly.v1+json": {
       "config": {
        "plotlyServerURL": "https://plot.ly"
       },
       "data": [
        {
         "customdata": [
          [
           -85,
           50
          ]
         ],
         "geo": "geo",
         "hovertemplate": "Province=Ontario<br>count=%{marker.size}<extra></extra>",
         "lat": [
          50
         ],
         "legendgroup": "Ontario",
         "lon": [
          -85
         ],
         "marker": {
          "color": "rgb(95, 70, 144)",
          "size": [
           195
          ],
          "sizemode": "area",
          "sizeref": 0.121875,
          "symbol": "circle"
         },
         "mode": "markers",
         "name": "Ontario",
         "showlegend": true,
         "type": "scattergeo"
        },
        {
         "customdata": [
          [
           -127.647621,
           53.726669
          ]
         ],
         "geo": "geo",
         "hovertemplate": "Province=Colombie-Britannique<br>count=%{marker.size}<extra></extra>",
         "lat": [
          53.726669
         ],
         "legendgroup": "Colombie-Britannique",
         "lon": [
          -127.647621
         ],
         "marker": {
          "color": "rgb(29, 105, 150)",
          "size": [
           65
          ],
          "sizemode": "area",
          "sizeref": 0.121875,
          "symbol": "circle"
         },
         "mode": "markers",
         "name": "Colombie-Britannique",
         "showlegend": true,
         "type": "scattergeo"
        },
        {
         "customdata": [
          [
           -70,
           53
          ]
         ],
         "geo": "geo",
         "hovertemplate": "Province=Québec<br>count=%{marker.size}<extra></extra>",
         "lat": [
          53
         ],
         "legendgroup": "Québec",
         "lon": [
          -70
         ],
         "marker": {
          "color": "rgb(56, 166, 165)",
          "size": [
           59
          ],
          "sizemode": "area",
          "sizeref": 0.121875,
          "symbol": "circle"
         },
         "mode": "markers",
         "name": "Québec",
         "showlegend": true,
         "type": "scattergeo"
        },
        {
         "customdata": [
          [
           -115,
           55
          ]
         ],
         "geo": "geo",
         "hovertemplate": "Province=Alberta<br>count=%{marker.size}<extra></extra>",
         "lat": [
          55
         ],
         "legendgroup": "Alberta",
         "lon": [
          -115
         ],
         "marker": {
          "color": "rgb(15, 133, 84)",
          "size": [
           44
          ],
          "sizemode": "area",
          "sizeref": 0.121875,
          "symbol": "circle"
         },
         "mode": "markers",
         "name": "Alberta",
         "showlegend": true,
         "type": "scattergeo"
        },
        {
         "customdata": [
          [
           -57.660435,
           53.135509
          ]
         ],
         "geo": "geo",
         "hovertemplate": "Province=Terre-Neuve-et-Labrador<br>count=%{marker.size}<extra></extra>",
         "lat": [
          53.135509
         ],
         "legendgroup": "Terre-Neuve-et-Labrador",
         "lon": [
          -57.660435
         ],
         "marker": {
          "color": "rgb(115, 175, 72)",
          "size": [
           22
          ],
          "sizemode": "area",
          "sizeref": 0.121875,
          "symbol": "circle"
         },
         "mode": "markers",
         "name": "Terre-Neuve-et-Labrador",
         "showlegend": true,
         "type": "scattergeo"
        },
        {
         "customdata": [
          [
           -114.371788,
           62.453972
          ]
         ],
         "geo": "geo",
         "hovertemplate": "Province=Territoires du Nord-Ouest<br>count=%{marker.size}<extra></extra>",
         "lat": [
          62.453972
         ],
         "legendgroup": "Territoires du Nord-Ouest",
         "lon": [
          -114.371788
         ],
         "marker": {
          "color": "rgb(237, 173, 8)",
          "size": [
           18
          ],
          "sizemode": "area",
          "sizeref": 0.121875,
          "symbol": "circle"
         },
         "mode": "markers",
         "name": "Territoires du Nord-Ouest",
         "showlegend": true,
         "type": "scattergeo"
        },
        {
         "customdata": [
          [
           -63,
           45
          ]
         ],
         "geo": "geo",
         "hovertemplate": "Province=Nouvelle-Écosse<br>count=%{marker.size}<extra></extra>",
         "lat": [
          45
         ],
         "legendgroup": "Nouvelle-Écosse",
         "lon": [
          -63
         ],
         "marker": {
          "color": "rgb(225, 124, 5)",
          "size": [
           12
          ],
          "sizemode": "area",
          "sizeref": 0.121875,
          "symbol": "circle"
         },
         "mode": "markers",
         "name": "Nouvelle-Écosse",
         "showlegend": true,
         "type": "scattergeo"
        },
        {
         "customdata": [
          [
           -98.739075,
           56.415211
          ]
         ],
         "geo": "geo",
         "hovertemplate": "Province=Manitoba<br>count=%{marker.size}<extra></extra>",
         "lat": [
          56.415211
         ],
         "legendgroup": "Manitoba",
         "lon": [
          -98.739075
         ],
         "marker": {
          "color": "rgb(204, 80, 62)",
          "size": [
           8
          ],
          "sizemode": "area",
          "sizeref": 0.121875,
          "symbol": "circle"
         },
         "mode": "markers",
         "name": "Manitoba",
         "showlegend": true,
         "type": "scattergeo"
        },
        {
         "customdata": [
          [
           -135,
           64
          ]
         ],
         "geo": "geo",
         "hovertemplate": "Province=Yukon<br>count=%{marker.size}<extra></extra>",
         "lat": [
          64
         ],
         "legendgroup": "Yukon",
         "lon": [
          -135
         ],
         "marker": {
          "color": "rgb(148, 52, 110)",
          "size": [
           7
          ],
          "sizemode": "area",
          "sizeref": 0.121875,
          "symbol": "circle"
         },
         "mode": "markers",
         "name": "Yukon",
         "showlegend": true,
         "type": "scattergeo"
        },
        {
         "customdata": [
          [
           -106,
           55
          ]
         ],
         "geo": "geo",
         "hovertemplate": "Province=Saskatchewan<br>count=%{marker.size}<extra></extra>",
         "lat": [
          55
         ],
         "legendgroup": "Saskatchewan",
         "lon": [
          -106
         ],
         "marker": {
          "color": "rgb(111, 64, 112)",
          "size": [
           4
          ],
          "sizemode": "area",
          "sizeref": 0.121875,
          "symbol": "circle"
         },
         "mode": "markers",
         "name": "Saskatchewan",
         "showlegend": true,
         "type": "scattergeo"
        },
        {
         "customdata": [
          [
           -86.798981,
           70.453262
          ]
         ],
         "geo": "geo",
         "hovertemplate": "Province=Nunavut<br>count=%{marker.size}<extra></extra>",
         "lat": [
          70.453262
         ],
         "legendgroup": "Nunavut",
         "lon": [
          -86.798981
         ],
         "marker": {
          "color": "rgb(102, 102, 102)",
          "size": [
           2
          ],
          "sizemode": "area",
          "sizeref": 0.121875,
          "symbol": "circle"
         },
         "mode": "markers",
         "name": "Nunavut",
         "showlegend": true,
         "type": "scattergeo"
        },
        {
         "customdata": [
          [
           -66.159668,
           46.49839
          ]
         ],
         "geo": "geo",
         "hovertemplate": "Province=Nouveau-Brunswick<br>count=%{marker.size}<extra></extra>",
         "lat": [
          46.49839
         ],
         "legendgroup": "Nouveau-Brunswick",
         "lon": [
          -66.159668
         ],
         "marker": {
          "color": "rgb(95, 70, 144)",
          "size": [
           2
          ],
          "sizemode": "area",
          "sizeref": 0.121875,
          "symbol": "circle"
         },
         "mode": "markers",
         "name": "Nouveau-Brunswick",
         "showlegend": true,
         "type": "scattergeo"
        }
       ],
       "layout": {
        "geo": {
         "center": {
          "lat": 60,
          "lon": -100
         },
         "domain": {
          "x": [
           0,
           1
          ],
          "y": [
           0,
           1
          ]
         },
         "landcolor": "#E8E8E8",
         "lataxis": {
          "range": [
           40,
           85
          ]
         },
         "lonaxis": {
          "range": [
           -140,
           -45
          ]
         },
         "projection": {
          "type": "equirectangular"
         },
         "scope": "world",
         "showcoastlines": false,
         "showframe": false,
         "showland": true
        },
        "legend": {
         "itemsizing": "constant",
         "title": {
          "text": "Province"
         },
         "tracegroupgap": 0
        },
        "margin": {
         "b": 0,
         "l": 0,
         "r": 0,
         "t": 20
        },
        "template": {
         "data": {
          "bar": [
           {
            "error_x": {
             "color": "#2a3f5f"
            },
            "error_y": {
             "color": "#2a3f5f"
            },
            "marker": {
             "line": {
              "color": "#E5ECF6",
              "width": 0.5
             },
             "pattern": {
              "fillmode": "overlay",
              "size": 10,
              "solidity": 0.2
             }
            },
            "type": "bar"
           }
          ],
          "barpolar": [
           {
            "marker": {
             "line": {
              "color": "#E5ECF6",
              "width": 0.5
             },
             "pattern": {
              "fillmode": "overlay",
              "size": 10,
              "solidity": 0.2
             }
            },
            "type": "barpolar"
           }
          ],
          "carpet": [
           {
            "aaxis": {
             "endlinecolor": "#2a3f5f",
             "gridcolor": "white",
             "linecolor": "white",
             "minorgridcolor": "white",
             "startlinecolor": "#2a3f5f"
            },
            "baxis": {
             "endlinecolor": "#2a3f5f",
             "gridcolor": "white",
             "linecolor": "white",
             "minorgridcolor": "white",
             "startlinecolor": "#2a3f5f"
            },
            "type": "carpet"
           }
          ],
          "choropleth": [
           {
            "colorbar": {
             "outlinewidth": 0,
             "ticks": ""
            },
            "type": "choropleth"
           }
          ],
          "contour": [
           {
            "colorbar": {
             "outlinewidth": 0,
             "ticks": ""
            },
            "colorscale": [
             [
              0,
              "#0d0887"
             ],
             [
              0.1111111111111111,
              "#46039f"
             ],
             [
              0.2222222222222222,
              "#7201a8"
             ],
             [
              0.3333333333333333,
              "#9c179e"
             ],
             [
              0.4444444444444444,
              "#bd3786"
             ],
             [
              0.5555555555555556,
              "#d8576b"
             ],
             [
              0.6666666666666666,
              "#ed7953"
             ],
             [
              0.7777777777777778,
              "#fb9f3a"
             ],
             [
              0.8888888888888888,
              "#fdca26"
             ],
             [
              1,
              "#f0f921"
             ]
            ],
            "type": "contour"
           }
          ],
          "contourcarpet": [
           {
            "colorbar": {
             "outlinewidth": 0,
             "ticks": ""
            },
            "type": "contourcarpet"
           }
          ],
          "heatmap": [
           {
            "colorbar": {
             "outlinewidth": 0,
             "ticks": ""
            },
            "colorscale": [
             [
              0,
              "#0d0887"
             ],
             [
              0.1111111111111111,
              "#46039f"
             ],
             [
              0.2222222222222222,
              "#7201a8"
             ],
             [
              0.3333333333333333,
              "#9c179e"
             ],
             [
              0.4444444444444444,
              "#bd3786"
             ],
             [
              0.5555555555555556,
              "#d8576b"
             ],
             [
              0.6666666666666666,
              "#ed7953"
             ],
             [
              0.7777777777777778,
              "#fb9f3a"
             ],
             [
              0.8888888888888888,
              "#fdca26"
             ],
             [
              1,
              "#f0f921"
             ]
            ],
            "type": "heatmap"
           }
          ],
          "heatmapgl": [
           {
            "colorbar": {
             "outlinewidth": 0,
             "ticks": ""
            },
            "colorscale": [
             [
              0,
              "#0d0887"
             ],
             [
              0.1111111111111111,
              "#46039f"
             ],
             [
              0.2222222222222222,
              "#7201a8"
             ],
             [
              0.3333333333333333,
              "#9c179e"
             ],
             [
              0.4444444444444444,
              "#bd3786"
             ],
             [
              0.5555555555555556,
              "#d8576b"
             ],
             [
              0.6666666666666666,
              "#ed7953"
             ],
             [
              0.7777777777777778,
              "#fb9f3a"
             ],
             [
              0.8888888888888888,
              "#fdca26"
             ],
             [
              1,
              "#f0f921"
             ]
            ],
            "type": "heatmapgl"
           }
          ],
          "histogram": [
           {
            "marker": {
             "pattern": {
              "fillmode": "overlay",
              "size": 10,
              "solidity": 0.2
             }
            },
            "type": "histogram"
           }
          ],
          "histogram2d": [
           {
            "colorbar": {
             "outlinewidth": 0,
             "ticks": ""
            },
            "colorscale": [
             [
              0,
              "#0d0887"
             ],
             [
              0.1111111111111111,
              "#46039f"
             ],
             [
              0.2222222222222222,
              "#7201a8"
             ],
             [
              0.3333333333333333,
              "#9c179e"
             ],
             [
              0.4444444444444444,
              "#bd3786"
             ],
             [
              0.5555555555555556,
              "#d8576b"
             ],
             [
              0.6666666666666666,
              "#ed7953"
             ],
             [
              0.7777777777777778,
              "#fb9f3a"
             ],
             [
              0.8888888888888888,
              "#fdca26"
             ],
             [
              1,
              "#f0f921"
             ]
            ],
            "type": "histogram2d"
           }
          ],
          "histogram2dcontour": [
           {
            "colorbar": {
             "outlinewidth": 0,
             "ticks": ""
            },
            "colorscale": [
             [
              0,
              "#0d0887"
             ],
             [
              0.1111111111111111,
              "#46039f"
             ],
             [
              0.2222222222222222,
              "#7201a8"
             ],
             [
              0.3333333333333333,
              "#9c179e"
             ],
             [
              0.4444444444444444,
              "#bd3786"
             ],
             [
              0.5555555555555556,
              "#d8576b"
             ],
             [
              0.6666666666666666,
              "#ed7953"
             ],
             [
              0.7777777777777778,
              "#fb9f3a"
             ],
             [
              0.8888888888888888,
              "#fdca26"
             ],
             [
              1,
              "#f0f921"
             ]
            ],
            "type": "histogram2dcontour"
           }
          ],
          "mesh3d": [
           {
            "colorbar": {
             "outlinewidth": 0,
             "ticks": ""
            },
            "type": "mesh3d"
           }
          ],
          "parcoords": [
           {
            "line": {
             "colorbar": {
              "outlinewidth": 0,
              "ticks": ""
             }
            },
            "type": "parcoords"
           }
          ],
          "pie": [
           {
            "automargin": true,
            "type": "pie"
           }
          ],
          "scatter": [
           {
            "fillpattern": {
             "fillmode": "overlay",
             "size": 10,
             "solidity": 0.2
            },
            "type": "scatter"
           }
          ],
          "scatter3d": [
           {
            "line": {
             "colorbar": {
              "outlinewidth": 0,
              "ticks": ""
             }
            },
            "marker": {
             "colorbar": {
              "outlinewidth": 0,
              "ticks": ""
             }
            },
            "type": "scatter3d"
           }
          ],
          "scattercarpet": [
           {
            "marker": {
             "colorbar": {
              "outlinewidth": 0,
              "ticks": ""
             }
            },
            "type": "scattercarpet"
           }
          ],
          "scattergeo": [
           {
            "marker": {
             "colorbar": {
              "outlinewidth": 0,
              "ticks": ""
             }
            },
            "type": "scattergeo"
           }
          ],
          "scattergl": [
           {
            "marker": {
             "colorbar": {
              "outlinewidth": 0,
              "ticks": ""
             }
            },
            "type": "scattergl"
           }
          ],
          "scattermapbox": [
           {
            "marker": {
             "colorbar": {
              "outlinewidth": 0,
              "ticks": ""
             }
            },
            "type": "scattermapbox"
           }
          ],
          "scatterpolar": [
           {
            "marker": {
             "colorbar": {
              "outlinewidth": 0,
              "ticks": ""
             }
            },
            "type": "scatterpolar"
           }
          ],
          "scatterpolargl": [
           {
            "marker": {
             "colorbar": {
              "outlinewidth": 0,
              "ticks": ""
             }
            },
            "type": "scatterpolargl"
           }
          ],
          "scatterternary": [
           {
            "marker": {
             "colorbar": {
              "outlinewidth": 0,
              "ticks": ""
             }
            },
            "type": "scatterternary"
           }
          ],
          "surface": [
           {
            "colorbar": {
             "outlinewidth": 0,
             "ticks": ""
            },
            "colorscale": [
             [
              0,
              "#0d0887"
             ],
             [
              0.1111111111111111,
              "#46039f"
             ],
             [
              0.2222222222222222,
              "#7201a8"
             ],
             [
              0.3333333333333333,
              "#9c179e"
             ],
             [
              0.4444444444444444,
              "#bd3786"
             ],
             [
              0.5555555555555556,
              "#d8576b"
             ],
             [
              0.6666666666666666,
              "#ed7953"
             ],
             [
              0.7777777777777778,
              "#fb9f3a"
             ],
             [
              0.8888888888888888,
              "#fdca26"
             ],
             [
              1,
              "#f0f921"
             ]
            ],
            "type": "surface"
           }
          ],
          "table": [
           {
            "cells": {
             "fill": {
              "color": "#EBF0F8"
             },
             "line": {
              "color": "white"
             }
            },
            "header": {
             "fill": {
              "color": "#C8D4E3"
             },
             "line": {
              "color": "white"
             }
            },
            "type": "table"
           }
          ]
         },
         "layout": {
          "annotationdefaults": {
           "arrowcolor": "#2a3f5f",
           "arrowhead": 0,
           "arrowwidth": 1
          },
          "autotypenumbers": "strict",
          "coloraxis": {
           "colorbar": {
            "outlinewidth": 0,
            "ticks": ""
           }
          },
          "colorscale": {
           "diverging": [
            [
             0,
             "#8e0152"
            ],
            [
             0.1,
             "#c51b7d"
            ],
            [
             0.2,
             "#de77ae"
            ],
            [
             0.3,
             "#f1b6da"
            ],
            [
             0.4,
             "#fde0ef"
            ],
            [
             0.5,
             "#f7f7f7"
            ],
            [
             0.6,
             "#e6f5d0"
            ],
            [
             0.7,
             "#b8e186"
            ],
            [
             0.8,
             "#7fbc41"
            ],
            [
             0.9,
             "#4d9221"
            ],
            [
             1,
             "#276419"
            ]
           ],
           "sequential": [
            [
             0,
             "#0d0887"
            ],
            [
             0.1111111111111111,
             "#46039f"
            ],
            [
             0.2222222222222222,
             "#7201a8"
            ],
            [
             0.3333333333333333,
             "#9c179e"
            ],
            [
             0.4444444444444444,
             "#bd3786"
            ],
            [
             0.5555555555555556,
             "#d8576b"
            ],
            [
             0.6666666666666666,
             "#ed7953"
            ],
            [
             0.7777777777777778,
             "#fb9f3a"
            ],
            [
             0.8888888888888888,
             "#fdca26"
            ],
            [
             1,
             "#f0f921"
            ]
           ],
           "sequentialminus": [
            [
             0,
             "#0d0887"
            ],
            [
             0.1111111111111111,
             "#46039f"
            ],
            [
             0.2222222222222222,
             "#7201a8"
            ],
            [
             0.3333333333333333,
             "#9c179e"
            ],
            [
             0.4444444444444444,
             "#bd3786"
            ],
            [
             0.5555555555555556,
             "#d8576b"
            ],
            [
             0.6666666666666666,
             "#ed7953"
            ],
            [
             0.7777777777777778,
             "#fb9f3a"
            ],
            [
             0.8888888888888888,
             "#fdca26"
            ],
            [
             1,
             "#f0f921"
            ]
           ]
          },
          "colorway": [
           "#636efa",
           "#EF553B",
           "#00cc96",
           "#ab63fa",
           "#FFA15A",
           "#19d3f3",
           "#FF6692",
           "#B6E880",
           "#FF97FF",
           "#FECB52"
          ],
          "font": {
           "color": "#2a3f5f"
          },
          "geo": {
           "bgcolor": "white",
           "lakecolor": "white",
           "landcolor": "#E5ECF6",
           "showlakes": true,
           "showland": true,
           "subunitcolor": "white"
          },
          "hoverlabel": {
           "align": "left"
          },
          "hovermode": "closest",
          "mapbox": {
           "style": "light"
          },
          "paper_bgcolor": "white",
          "plot_bgcolor": "#E5ECF6",
          "polar": {
           "angularaxis": {
            "gridcolor": "white",
            "linecolor": "white",
            "ticks": ""
           },
           "bgcolor": "#E5ECF6",
           "radialaxis": {
            "gridcolor": "white",
            "linecolor": "white",
            "ticks": ""
           }
          },
          "scene": {
           "xaxis": {
            "backgroundcolor": "#E5ECF6",
            "gridcolor": "white",
            "gridwidth": 2,
            "linecolor": "white",
            "showbackground": true,
            "ticks": "",
            "zerolinecolor": "white"
           },
           "yaxis": {
            "backgroundcolor": "#E5ECF6",
            "gridcolor": "white",
            "gridwidth": 2,
            "linecolor": "white",
            "showbackground": true,
            "ticks": "",
            "zerolinecolor": "white"
           },
           "zaxis": {
            "backgroundcolor": "#E5ECF6",
            "gridcolor": "white",
            "gridwidth": 2,
            "linecolor": "white",
            "showbackground": true,
            "ticks": "",
            "zerolinecolor": "white"
           }
          },
          "shapedefaults": {
           "line": {
            "color": "#2a3f5f"
           }
          },
          "ternary": {
           "aaxis": {
            "gridcolor": "white",
            "linecolor": "white",
            "ticks": ""
           },
           "baxis": {
            "gridcolor": "white",
            "linecolor": "white",
            "ticks": ""
           },
           "bgcolor": "#E5ECF6",
           "caxis": {
            "gridcolor": "white",
            "linecolor": "white",
            "ticks": ""
           }
          },
          "title": {
           "x": 0.05
          },
          "xaxis": {
           "automargin": true,
           "gridcolor": "white",
           "linecolor": "white",
           "ticks": "",
           "title": {
            "standoff": 15
           },
           "zerolinecolor": "white",
           "zerolinewidth": 2
          },
          "yaxis": {
           "automargin": true,
           "gridcolor": "white",
           "linecolor": "white",
           "ticks": "",
           "title": {
            "standoff": 15
           },
           "zerolinecolor": "white",
           "zerolinewidth": 2
          }
         }
        },
        "title": {
         "x": 0.2
        }
       }
      }
     },
     "metadata": {},
     "output_type": "display_data"
    }
   ],
   "source": [
    "# Create a scattergeo map with size of dots based on the 'count' column\n",
    "figProvince = px.scatter_geo(\n",
    "    freqProvinces,\n",
    "    lat='Latitude',\n",
    "    lon='Longitude',\n",
    "    size='count',\n",
    "    color = 'Province',\n",
    "    size_max = 40,\n",
    "    color_discrete_sequence=px.colors.qualitative.Prism,\n",
    "    projection='equirectangular',  # You can change the projection as needed\n",
    "    hover_data={'Longitude':False,'Latitude':False}\n",
    ")\n",
    "\n",
    "# Customize the layout\n",
    "figProvince.update_geos(\n",
    "    scope= 'world',\n",
    "    showcoastlines=False,  # Hide coastlines/borders\n",
    "    showland=True,  # Hide land area color\n",
    "    showframe = False,\n",
    "    landcolor = '#E8E8E8',\n",
    "    center=dict(lon=-100, lat=60),  # Adjust lon and lat for centering\n",
    "    lonaxis_range=[-140, -45],  # Adjust the range as needed for the desired zoom level\n",
    "    lataxis_range=[40, 85],  # Adjust the range as needed for the desired zoom level\n",
    ")\n",
    "\n",
    "\n",
    "figProvince = figProvince.update_layout( \n",
    "    margin=dict(t=20, l=0, r=0, b=0),\n",
    "    title_x=0.2,    \n",
    ")\n",
    "\n",
    "figProvince.show()"
   ]
  },
  {
   "cell_type": "code",
   "execution_count": 58,
   "metadata": {},
   "outputs": [],
   "source": [
    "import pandas as pd\n",
    "import plotly\n",
    "import plotly_express as px\n",
    "from slugify import slugify\n",
    "from utils.utils import *\n",
    "\n",
    "affiliations = pd.read_csv('data/affiliationsChercheurs.csv')\n",
    "\n",
    "## Répartition pancanadienne\n",
    "# Create a scattergeo map with size of dots based on the 'count' column\n",
    "def generate_geo_figure_provinces(df: pd.DataFrame) -> plotly.graph_objs._figure.Figure:\n",
    "# Create a scattergeo map with size of dots based on the 'count' column\n",
    "    figProvince = px.scatter_geo(\n",
    "        df,\n",
    "        lat='Latitude',\n",
    "        lon='Longitude',\n",
    "        size='count',\n",
    "        color = 'Province',\n",
    "        size_max = 40,\n",
    "        color_discrete_sequence=px.colors.qualitative.Prism,\n",
    "        projection='equirectangular',  # You can change the projection as needed\n",
    "        hover_data={'Longitude':False,'Latitude':False}\n",
    "    )\n",
    "\n",
    "    # Customize the layout\n",
    "    figProvince.update_geos(\n",
    "        scope= 'world',\n",
    "        showcoastlines=False,  # Hide coastlines/borders\n",
    "        showland=True,  # Hide land area color\n",
    "        showframe = False,\n",
    "        landcolor = '#E8E8E8',\n",
    "        center=dict(lon=-100, lat=60),  # Adjust lon and lat for centering\n",
    "        lonaxis_range=[-140, -45],  # Adjust the range as needed for the desired zoom level\n",
    "        lataxis_range=[40, 85],  # Adjust the range as needed for the desired zoom level\n",
    "    )\n",
    "\n",
    "\n",
    "    figProvince = figProvince.update_layout( \n",
    "        margin=dict(t=20, l=0, r=0, b=0),\n",
    "        title_x=0.2,    \n",
    "    )\n",
    "\n",
    "    return figProvince\n",
    "\n",
    "# Générer les figures\n",
    "figsProvinces = []\n",
    "tablesFreqProvinces = {}\n",
    "mappingTables = {'count': 'N'}\n",
    "\n",
    "# Figure - Tous les projets \n",
    "# Tableau de fréquence \n",
    "affiliationsCanada = affiliations[affiliations['Pays'] == 'Canada']\n",
    "## Répartition pancanadienne\n",
    "mapping_provinces = pd.read_csv('utils/mapping_provinces_canada_iso.csv')\n",
    "mapping_provinces = mapping_provinces[mapping_provinces['Language code'] == 'fr']\n",
    "mapping_provinces = {x['Subdivision name'] : x['3166-2 code'] for x in mapping_provinces.to_dict('records')}\n",
    "\n",
    "province_info = pd.read_csv('utils/provinces_canada_coordinates.csv')\n",
    "province_info['code-ISO province'] = province_info['Place Name'].map(mapping_provinces)\n",
    "province_info = province_info.rename(columns={'Place Name': 'Province'})\n",
    "\n",
    "affiliationsCanada = affiliations[affiliations['Pays'] == 'Canada']\n",
    "affiliationsCanada = affiliationsCanada.merge(province_info, on='Province')\n",
    "\n",
    "freqProvinces = pd.DataFrame(affiliationsCanada['Province'].value_counts()).reset_index()\n",
    "freqProvinces = freqProvinces.merge(province_info, on='Province')\n",
    "\n",
    "with open('figures/geo/canada/all.html', 'w') as f:\n",
    "    f.write(generate_geo_figure_provinces(freqProvinces).to_html(full_html=False, include_plotlyjs='cdn'))\n",
    "\n",
    "figsProvinces.append(\n",
    "    {\n",
    "        'Nom': 'Tout',\n",
    "        'Fichier': 'figures/geo/canada/all.html'\n",
    "    }\n",
    ")\n",
    "\n",
    "# Create the table to display aside from the figure\n",
    "tableF = freqProvinces.rename(columns = mappingTables)\n",
    "tableF = tableF.sort_values(by=['N'], ascending=[False])[['Province', 'N']]\n",
    "tablesFreqProvinces[f\"figures/geo/canada/all.html\"] = tableF.to_html(classes = tableClasses, justify='left', index=False)\n",
    "\n",
    "# Figures - Par concours\n",
    "freqProvinceConcours = affiliationsCanada.groupby(['concours', 'Province', 'code-ISO province'])['chercheur'].count().reset_index()\n",
    "freqProvinceConcours = freqProvinceConcours.rename(columns={'chercheur': 'count'})\n",
    "freqProvinceConcours = freqProvinceConcours.merge(province_info, on='Province')\n",
    "\n",
    "\n",
    "### Revoir à partir d'ici\n",
    "for c in freqProvinceConcours['concours'].unique():\n",
    "    subdf = freqProvinceConcours[freqProvinceConcours['concours'] == c]\n",
    "\n",
    "    with open(f'figures/geo/canada/{c}.html', 'w') as f:\n",
    "        f.write(generate_geo_figure_provinces(subdf).to_html(full_html=False, include_plotlyjs='cdn'))\n",
    "\n",
    "    figsProvinces.append(\n",
    "        {\n",
    "            'Nom': c,\n",
    "            'Fichier': f'figures/geo/canada/{c}.html'\n",
    "        }\n",
    "    ) \n",
    "\n",
    "    subdf = subdf[['Province', 'count']].sort_values(by='count', ascending=False)\n",
    "    \n",
    "    # Create the table to display aside from the figure\n",
    "    tableF = subdf.rename(columns = mappingTables)\n",
    "\n",
    "    tableF = tableF.sort_values(by=['N'], ascending=[False])\n",
    "    tablesFreqProvinces[f\"figures/geo/canada/{c}.html\"] = tableF.to_html(classes = tableClasses, justify='left', index=False)\n",
    "\n",
    "    # Figures - Par projet\n",
    "    freqProvinceProjets = affiliationsCanada.groupby(['projet', 'concours', 'Province'])['chercheur'].count().reset_index()\n",
    "    freqProvinceProjets = freqProvinceProjets.merge(province_info, on='Province')\n",
    "    freqProvinceProjets = freqProvinceProjets[freqProvinceProjets['concours'] == c]\n",
    "    freqProvinceProjets = freqProvinceProjets.rename(columns={'chercheur': 'count'})\n",
    "\n",
    "    for p in freqProvinceProjets['projet'].unique():\n",
    "        slugifiedName = slugify(p)[:30]\n",
    "\n",
    "        ssubdf = freqProvinceProjets[freqProvinceProjets['projet'] == p]\n",
    "\n",
    "        with open(f'figures/geo/canada/{slugifiedName}.html', 'w') as f:\n",
    "            f.write(generate_geo_figure_provinces(ssubdf).to_html(full_html=False, include_plotlyjs='cdn'))\n",
    "\n",
    "        figsProvinces.append(\n",
    "            {\n",
    "                'Nom': f\"{c} -- {p}\",\n",
    "                'Fichier': f'figures/geo/canada/{slugifiedName}.html'\n",
    "            }\n",
    "        ) \n",
    "\n",
    "        ssubdf = ssubdf[['Province', 'count']].sort_values(by='count', ascending=False)\n",
    "        \n",
    "        # Create the table to display aside from the figure\n",
    "        tableF = ssubdf.rename(columns = mappingTables)\n",
    "\n",
    "        tableF = tableF.sort_values(by=['N'], ascending=[False])\n",
    "        tablesFreqProvinces[f\"figures/geo/canada/{slugifiedName}.html\"] = tableF.to_html(classes = tableClasses, justify='left', index=False)\n",
    "\n",
    "tablesFreq = str(tablesFreqProvinces)"
   ]
  },
  {
   "cell_type": "code",
   "execution_count": 59,
   "metadata": {},
   "outputs": [
    {
     "data": {
      "text/plain": [
       "[{'Nom': 'Tout', 'Fichier': 'figures/geo/canada/all.html'},\n",
       " {'Nom': 2020, 'Fichier': 'figures/geo/canada/2020.html'},\n",
       " {'Nom': '2020 -- BIOSCAN: Tracing the Patterns of Life on a Changing Planet',\n",
       "  'Fichier': 'figures/geo/canada/bioscan-tracing-the-patterns-o.html'},\n",
       " {'Nom': '2020 -- Mend the Gap: A Transformative Biomaterials Platform for Spinal Cord Repair',\n",
       "  'Fichier': 'figures/geo/canada/mend-the-gap-a-transformative-.html'},\n",
       " {'Nom': '2020 -- Protection of Metallic Surfaces from Bulk to Nano Through Molecular-Level Innovation',\n",
       "  'Fichier': 'figures/geo/canada/protection-of-metallic-surface.html'},\n",
       " {'Nom': '2020 -- Ărramăt: Strengthening Health and Well-Being through Indigenous-Led Conservation and Sustainable Relationships with Biodiversity',\n",
       "  'Fichier': 'figures/geo/canada/arramat-strengthening-health-a.html'},\n",
       " {'Nom': '2020 -- Inclusive Design for Employment Access (IDEA)',\n",
       "  'Fichier': 'figures/geo/canada/inclusive-design-for-employmen.html'},\n",
       " {'Nom': '2020 -- The Next Frontier in Transplantation: Ex Vivo Strategies to Repair and Rebuild Organs',\n",
       "  'Fichier': 'figures/geo/canada/the-next-frontier-in-transplan.html'},\n",
       " {'Nom': '2020 -- Repurposing Marine By-Products or raw Materials for the Development and Production of Functional Foods and Bioactives to Improve Human Health and Coastal Community Sustainability',\n",
       "  'Fichier': 'figures/geo/canada/repurposing-marine-by-products.html'},\n",
       " {'Nom': 2022, 'Fichier': 'figures/geo/canada/2022.html'},\n",
       " {'Nom': '2022 -- A pipeline approach for the rational design of neuronal lineage conversion approaches to treat neurological disorders',\n",
       "  'Fichier': 'figures/geo/canada/a-pipeline-approach-for-the-ra.html'},\n",
       " {'Nom': '2022 -- Abundant Intelligences: Expanding Artificial Intelligence through Indigenous Knowledge Systems',\n",
       "  'Fichier': 'figures/geo/canada/abundant-intelligences-expandi.html'},\n",
       " {'Nom': '2022 -- CANSTOREnergy: Seasonal storage of renewable energy',\n",
       "  'Fichier': 'figures/geo/canada/canstorenergy-seasonal-storage.html'},\n",
       " {'Nom': '2022 -- Rare Isotopes to Transform Cancer Therapy',\n",
       "  'Fichier': 'figures/geo/canada/rare-isotopes-to-transform-can.html'},\n",
       " {'Nom': '2022 -- Enabling novel cardiac therapies with pluripotent stem cells',\n",
       "  'Fichier': 'figures/geo/canada/enabling-novel-cardiac-therapi.html'},\n",
       " {'Nom': '2022 -- TRIDENT: TRanslational Initiative to DE-risk NeuroTherapeutics',\n",
       "  'Fichier': 'figures/geo/canada/trident-translational-initiati.html'}]"
      ]
     },
     "execution_count": 59,
     "metadata": {},
     "output_type": "execute_result"
    }
   ],
   "source": [
    "figsProvinces"
   ]
  },
  {
   "cell_type": "code",
   "execution_count": null,
   "metadata": {},
   "outputs": [],
   "source": []
  }
 ],
 "metadata": {
  "kernelspec": {
   "display_name": "Python 3",
   "language": "python",
   "name": "python3"
  },
  "language_info": {
   "codemirror_mode": {
    "name": "ipython",
    "version": 3
   },
   "file_extension": ".py",
   "mimetype": "text/x-python",
   "name": "python",
   "nbconvert_exporter": "python",
   "pygments_lexer": "ipython3",
   "version": "3.10.5"
  },
  "orig_nbformat": 4
 },
 "nbformat": 4,
 "nbformat_minor": 2
}
