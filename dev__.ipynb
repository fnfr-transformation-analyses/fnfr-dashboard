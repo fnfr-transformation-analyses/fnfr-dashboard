{
 "cells": [
  {
   "cell_type": "code",
   "execution_count": 1,
   "metadata": {},
   "outputs": [],
   "source": [
    "import pandas as pd\n",
    "import plotly\n",
    "import plotly_express as px\n",
    "from slugify import slugify\n",
    "from utils.utils import *\n",
    "\n",
    "tableClasses = ['table', 'table-hover']\n",
    "\n",
    "# #### Répartition des chercheurs (nombre de co-Pis, co-candidats, collaborateurs, etc.)\n",
    "chercheurs  = pd.read_excel('data/fnfr_transformation_chercheur-e-s.xlsx')\n",
    "\n",
    "#### Répartition géographique\n",
    "# charger le mapping des pays qui sera utilisé pour construire la figure\n",
    "mappingPays = pd.read_csv('utils/mapping_pays_iso.csv', sep=';', encoding='UTF-8').to_dict('records')\n",
    "mappingPays = {x['Pays'] : x['Alpha-3 code'] for x in mappingPays}\n",
    "\n",
    "# Charger les données\n",
    "affiliations = pd.read_csv('data/affiliationsChercheurs.csv')\n",
    "affiliations = affiliations[affiliations['Pays'] != '-']\n",
    "affiliations['Code Alpha-3 Pays'] = affiliations['Pays'].map(mappingPays)\n",
    "\n",
    "def generate_geo_figure(df: pd.DataFrame) -> plotly.graph_objs._figure.Figure:\n",
    "    figPays = px.scatter_geo(\n",
    "        df, \n",
    "        locations=\"Code Alpha-3 Pays\",\n",
    "        locationmode = 'ISO-3',\n",
    "        hover_name = 'Pays',\n",
    "        size=\"count\",\n",
    "        size_max = 50,\n",
    "        height=440,\n",
    "        projection = 'equirectangular',\n",
    "    )\n",
    "\n",
    "    # Customize the layout\n",
    "    figPays.update_geos(\n",
    "        showcoastlines=False,  # Hide coastlines/borders\n",
    "        showland=True,  # Hide land area color\n",
    "        landcolor = '#E8E8E8',\n",
    "        showframe=True,  # Hide frame/borders\n",
    "        projection_scale = 1.125,  # Adjust the projection scale to fit the map better\n",
    "        center=dict(lon=20, lat=18),  # Set the center of the map to exclude Antarctica\n",
    "    )\n",
    "\n",
    "    figPays = figPays.update_layout( \n",
    "        margin=dict(t=0, l=0, r=0, b=0),\n",
    "        title_x=0.2, \n",
    "    )\n",
    "\n",
    "    return figPays\n",
    "\n",
    "# Générer les figures\n",
    "figs = []\n",
    "tablesFreq = {}\n",
    "mappingTables = {'count': 'N'}\n",
    "\n",
    "# Figure - Tous les projets \n",
    "# Tableau de fréquence \n",
    "freqPays = pd.DataFrame(affiliations['Pays'].value_counts()).reset_index()\n",
    "freqPays['Code Alpha-3 Pays'] = freqPays['Pays'].map(mappingPays)\n",
    "freqPays = freqPays[['Pays', 'Code Alpha-3 Pays', 'count']]\n",
    "\n",
    "with open('figures/geo/all.html', 'w') as f:\n",
    "    f.write(generate_geo_figure(freqPays).to_html(full_html=False, include_plotlyjs='cdn'))\n",
    "\n",
    "figs.append(\n",
    "    {\n",
    "        'Nom': 'Tout',\n",
    "        'Fichier': 'figures/geo/all.html'\n",
    "    }\n",
    ")\n",
    "\n",
    "# Create the table to display aside from the figure\n",
    "tableF = freqPays.rename(columns = mappingTables)\n",
    "tableF = tableF.sort_values(by=['N'], ascending=[False])[['Pays', 'N']]\n",
    "tablesFreq[f\"figures/geo/all.html\"] = tableF.to_html(classes = tableClasses, justify='left', index=False)\n",
    "\n",
    "# Figures - Par concours\n",
    "freqPaysConcours = affiliations.groupby(['concours', 'Pays', 'Code Alpha-3 Pays'])['chercheur'].count().reset_index()\n",
    "freqPaysConcours = freqPaysConcours.rename(columns={'chercheur': 'count'})\n",
    "\n",
    "for c in freqPaysConcours['concours'].unique():\n",
    "    subdf = freqPaysConcours[freqPaysConcours['concours'] == c]\n",
    "\n",
    "    with open(f'figures/geo/{c}.html', 'w') as f:\n",
    "        f.write(generate_geo_figure(subdf).to_html(full_html=False, include_plotlyjs='cdn'))\n",
    "\n",
    "    figs.append(\n",
    "        {\n",
    "            'Nom': c,\n",
    "            'Fichier': f'figures/geo/{c}.html'\n",
    "        }\n",
    "    ) \n",
    "\n",
    "    subdf = subdf[['Pays', 'count']].sort_values(by='count', ascending=False)\n",
    "    \n",
    "    # Create the table to display aside from the figure\n",
    "    tableF = subdf.rename(columns = mappingTables)\n",
    "\n",
    "    tableF = tableF.sort_values(by=['N'], ascending=[False])\n",
    "    tablesFreq[f\"figures/geo/{c}.html\"] = tableF.to_html(classes = tableClasses, justify='left', index=False)\n",
    "\n",
    "    # Figures - Par projet\n",
    "    freqPaysProjets = affiliations.groupby(['projet', 'concours', 'Pays', 'Code Alpha-3 Pays'])['chercheur'].count().reset_index()\n",
    "    freqPaysProjets = freqPaysProjets[freqPaysProjets['concours'] == c]\n",
    "    freqPaysProjets = freqPaysProjets.rename(columns={'chercheur': 'count'})\n",
    "\n",
    "    for p in freqPaysProjets['projet'].unique():\n",
    "        slugifiedName = slugify(p)[:30]\n",
    "\n",
    "        ssubdf = freqPaysProjets[freqPaysProjets['projet'] == p]\n",
    "\n",
    "        with open(f'figures/geo/{slugifiedName}.html', 'w') as f:\n",
    "            f.write(generate_geo_figure(ssubdf).to_html(full_html=False, include_plotlyjs='cdn'))\n",
    "\n",
    "        figs.append(\n",
    "            {\n",
    "                'Nom': f\"{c} -- {p}\",\n",
    "                'Fichier': f'figures/geo/{slugifiedName}.html'\n",
    "            }\n",
    "        ) \n",
    "\n",
    "        ssubdf = ssubdf[['Pays', 'count']].sort_values(by='count', ascending=False)\n",
    "        \n",
    "        # Create the table to display aside from the figure\n",
    "        tableF = ssubdf.rename(columns = mappingTables)\n",
    "\n",
    "        tableF = tableF.sort_values(by=['N'], ascending=[False])\n",
    "        tablesFreq[f\"figures/geo/{slugifiedName}.html\"] = tableF.to_html(classes = tableClasses, justify='left', index=False)\n",
    "\n",
    "tablesFreq = str(tablesFreq)\n"
   ]
  },
  {
   "cell_type": "code",
   "execution_count": 2,
   "metadata": {},
   "outputs": [
    {
     "data": {
      "text/html": [
       "<div>\n",
       "<style scoped>\n",
       "    .dataframe tbody tr th:only-of-type {\n",
       "        vertical-align: middle;\n",
       "    }\n",
       "\n",
       "    .dataframe tbody tr th {\n",
       "        vertical-align: top;\n",
       "    }\n",
       "\n",
       "    .dataframe thead th {\n",
       "        text-align: right;\n",
       "    }\n",
       "</style>\n",
       "<table border=\"1\" class=\"dataframe\">\n",
       "  <thead>\n",
       "    <tr style=\"text-align: right;\">\n",
       "      <th></th>\n",
       "      <th>Province / Territoire</th>\n",
       "      <th>count</th>\n",
       "      <th>code-ISO province</th>\n",
       "    </tr>\n",
       "  </thead>\n",
       "  <tbody>\n",
       "    <tr>\n",
       "      <th>0</th>\n",
       "      <td>Ontario</td>\n",
       "      <td>195</td>\n",
       "      <td>CA-ON</td>\n",
       "    </tr>\n",
       "    <tr>\n",
       "      <th>1</th>\n",
       "      <td>Colombie-Britannique</td>\n",
       "      <td>65</td>\n",
       "      <td>CA-BC</td>\n",
       "    </tr>\n",
       "    <tr>\n",
       "      <th>2</th>\n",
       "      <td>Québec</td>\n",
       "      <td>59</td>\n",
       "      <td>CA-QC</td>\n",
       "    </tr>\n",
       "    <tr>\n",
       "      <th>3</th>\n",
       "      <td>Alberta</td>\n",
       "      <td>44</td>\n",
       "      <td>CA-AB</td>\n",
       "    </tr>\n",
       "    <tr>\n",
       "      <th>4</th>\n",
       "      <td>Terre-Neuve-et-Labrador</td>\n",
       "      <td>22</td>\n",
       "      <td>CA-NL</td>\n",
       "    </tr>\n",
       "    <tr>\n",
       "      <th>5</th>\n",
       "      <td>Territoires du Nord-Ouest</td>\n",
       "      <td>18</td>\n",
       "      <td>CA-NT</td>\n",
       "    </tr>\n",
       "    <tr>\n",
       "      <th>6</th>\n",
       "      <td>Nouvelle-Écosse</td>\n",
       "      <td>12</td>\n",
       "      <td>CA-NS</td>\n",
       "    </tr>\n",
       "    <tr>\n",
       "      <th>7</th>\n",
       "      <td>Manitoba</td>\n",
       "      <td>8</td>\n",
       "      <td>CA-MB</td>\n",
       "    </tr>\n",
       "    <tr>\n",
       "      <th>8</th>\n",
       "      <td>Yukon</td>\n",
       "      <td>7</td>\n",
       "      <td>CA-YT</td>\n",
       "    </tr>\n",
       "    <tr>\n",
       "      <th>9</th>\n",
       "      <td>Saskatchewan</td>\n",
       "      <td>4</td>\n",
       "      <td>CA-SK</td>\n",
       "    </tr>\n",
       "    <tr>\n",
       "      <th>10</th>\n",
       "      <td>Nunavut</td>\n",
       "      <td>2</td>\n",
       "      <td>CA-NU</td>\n",
       "    </tr>\n",
       "    <tr>\n",
       "      <th>11</th>\n",
       "      <td>Nouveau-Brunswick</td>\n",
       "      <td>2</td>\n",
       "      <td>CA-NB</td>\n",
       "    </tr>\n",
       "  </tbody>\n",
       "</table>\n",
       "</div>"
      ],
      "text/plain": [
       "        Province / Territoire  count code-ISO province\n",
       "0                     Ontario    195             CA-ON\n",
       "1        Colombie-Britannique     65             CA-BC\n",
       "2                      Québec     59             CA-QC\n",
       "3                     Alberta     44             CA-AB\n",
       "4     Terre-Neuve-et-Labrador     22             CA-NL\n",
       "5   Territoires du Nord-Ouest     18             CA-NT\n",
       "6             Nouvelle-Écosse     12             CA-NS\n",
       "7                    Manitoba      8             CA-MB\n",
       "8                       Yukon      7             CA-YT\n",
       "9                Saskatchewan      4             CA-SK\n",
       "10                    Nunavut      2             CA-NU\n",
       "11          Nouveau-Brunswick      2             CA-NB"
      ]
     },
     "execution_count": 2,
     "metadata": {},
     "output_type": "execute_result"
    }
   ],
   "source": [
    "affiliationsCanada = affiliations[affiliations['Pays'] == 'Canada']\n",
    "\n",
    "mapping_provinces = pd.read_csv('utils/mapping_provinces_canada_iso.csv')\n",
    "mapping_provinces = mapping_provinces[mapping_provinces['Language code'] == 'fr']\n",
    "mapping_provinces = {x['Subdivision name'] : x['3166-2 code'] for x in mapping_provinces.to_dict('records')}\n",
    "\n",
    "freqProvinces = pd.DataFrame(affiliationsCanada['Province / Territoire'].value_counts()).reset_index()\n",
    "freqProvinces['code-ISO province'] = freqProvinces['Province / Territoire'].map(mapping_provinces)\n",
    "\n",
    "freqProvinces"
   ]
  },
  {
   "cell_type": "code",
   "execution_count": 8,
   "metadata": {},
   "outputs": [
    {
     "data": {
      "text/html": [
       "<div>\n",
       "<style scoped>\n",
       "    .dataframe tbody tr th:only-of-type {\n",
       "        vertical-align: middle;\n",
       "    }\n",
       "\n",
       "    .dataframe tbody tr th {\n",
       "        vertical-align: top;\n",
       "    }\n",
       "\n",
       "    .dataframe thead th {\n",
       "        text-align: right;\n",
       "    }\n",
       "</style>\n",
       "<table border=\"1\" class=\"dataframe\">\n",
       "  <thead>\n",
       "    <tr style=\"text-align: right;\">\n",
       "      <th></th>\n",
       "      <th>Province / Territoire</th>\n",
       "      <th>count</th>\n",
       "      <th>code-ISO province</th>\n",
       "      <th>lat</th>\n",
       "      <th>lon</th>\n",
       "    </tr>\n",
       "  </thead>\n",
       "  <tbody>\n",
       "    <tr>\n",
       "      <th>0</th>\n",
       "      <td>Ontario</td>\n",
       "      <td>195</td>\n",
       "      <td>CA-ON</td>\n",
       "      <td>50.000000</td>\n",
       "      <td>-85.000000</td>\n",
       "    </tr>\n",
       "    <tr>\n",
       "      <th>1</th>\n",
       "      <td>Colombie-Britannique</td>\n",
       "      <td>65</td>\n",
       "      <td>CA-BC</td>\n",
       "      <td>53.726669</td>\n",
       "      <td>-127.647621</td>\n",
       "    </tr>\n",
       "    <tr>\n",
       "      <th>2</th>\n",
       "      <td>Québec</td>\n",
       "      <td>59</td>\n",
       "      <td>CA-QC</td>\n",
       "      <td>53.000000</td>\n",
       "      <td>-70.000000</td>\n",
       "    </tr>\n",
       "    <tr>\n",
       "      <th>3</th>\n",
       "      <td>Alberta</td>\n",
       "      <td>44</td>\n",
       "      <td>CA-AB</td>\n",
       "      <td>55.000000</td>\n",
       "      <td>-115.000000</td>\n",
       "    </tr>\n",
       "    <tr>\n",
       "      <th>4</th>\n",
       "      <td>Terre-Neuve-et-Labrador</td>\n",
       "      <td>22</td>\n",
       "      <td>CA-NL</td>\n",
       "      <td>53.135509</td>\n",
       "      <td>-57.660435</td>\n",
       "    </tr>\n",
       "    <tr>\n",
       "      <th>5</th>\n",
       "      <td>Territoires du Nord-Ouest</td>\n",
       "      <td>18</td>\n",
       "      <td>CA-NT</td>\n",
       "      <td>NaN</td>\n",
       "      <td>NaN</td>\n",
       "    </tr>\n",
       "    <tr>\n",
       "      <th>6</th>\n",
       "      <td>Nouvelle-Écosse</td>\n",
       "      <td>12</td>\n",
       "      <td>CA-NS</td>\n",
       "      <td>45.000000</td>\n",
       "      <td>-63.000000</td>\n",
       "    </tr>\n",
       "    <tr>\n",
       "      <th>7</th>\n",
       "      <td>Manitoba</td>\n",
       "      <td>8</td>\n",
       "      <td>CA-MB</td>\n",
       "      <td>56.415211</td>\n",
       "      <td>-98.739075</td>\n",
       "    </tr>\n",
       "    <tr>\n",
       "      <th>8</th>\n",
       "      <td>Yukon</td>\n",
       "      <td>7</td>\n",
       "      <td>CA-YT</td>\n",
       "      <td>NaN</td>\n",
       "      <td>NaN</td>\n",
       "    </tr>\n",
       "    <tr>\n",
       "      <th>9</th>\n",
       "      <td>Saskatchewan</td>\n",
       "      <td>4</td>\n",
       "      <td>CA-SK</td>\n",
       "      <td>55.000000</td>\n",
       "      <td>-106.000000</td>\n",
       "    </tr>\n",
       "    <tr>\n",
       "      <th>10</th>\n",
       "      <td>Nunavut</td>\n",
       "      <td>2</td>\n",
       "      <td>CA-NU</td>\n",
       "      <td>NaN</td>\n",
       "      <td>NaN</td>\n",
       "    </tr>\n",
       "    <tr>\n",
       "      <th>11</th>\n",
       "      <td>Nouveau-Brunswick</td>\n",
       "      <td>2</td>\n",
       "      <td>CA-NB</td>\n",
       "      <td>46.498390</td>\n",
       "      <td>-66.159668</td>\n",
       "    </tr>\n",
       "  </tbody>\n",
       "</table>\n",
       "</div>"
      ],
      "text/plain": [
       "        Province / Territoire  count code-ISO province        lat         lon\n",
       "0                     Ontario    195             CA-ON  50.000000  -85.000000\n",
       "1        Colombie-Britannique     65             CA-BC  53.726669 -127.647621\n",
       "2                      Québec     59             CA-QC  53.000000  -70.000000\n",
       "3                     Alberta     44             CA-AB  55.000000 -115.000000\n",
       "4     Terre-Neuve-et-Labrador     22             CA-NL  53.135509  -57.660435\n",
       "5   Territoires du Nord-Ouest     18             CA-NT        NaN         NaN\n",
       "6             Nouvelle-Écosse     12             CA-NS  45.000000  -63.000000\n",
       "7                    Manitoba      8             CA-MB  56.415211  -98.739075\n",
       "8                       Yukon      7             CA-YT        NaN         NaN\n",
       "9                Saskatchewan      4             CA-SK  55.000000 -106.000000\n",
       "10                    Nunavut      2             CA-NU        NaN         NaN\n",
       "11          Nouveau-Brunswick      2             CA-NB  46.498390  -66.159668"
      ]
     },
     "execution_count": 8,
     "metadata": {},
     "output_type": "execute_result"
    }
   ],
   "source": [
    "mapping_provinces = pd.read_csv('utils/mapping_provinces_canada_iso.csv')\n",
    "mapping_provinces = mapping_provinces[mapping_provinces['Language code'] == 'en']\n",
    "mapping_provinces = {x['Subdivision name'] : x['3166-2 code'] for x in mapping_provinces.to_dict('records')}\n",
    "\n",
    "province_coordinates = pd.read_csv('utils/provinces_canada_coordinates.csv')\n",
    "province_coordinates['code-ISO province'] = province_coordinates['Place Name'].map(mapping_provinces)\n",
    "\n",
    "mapping_lat = {x['code-ISO province'] : x['Latitude'] for x in province_coordinates.to_dict('records')}\n",
    "mapping_lon = {x['code-ISO province'] : x['Longitude'] for x in province_coordinates.to_dict('records')}\n",
    "\n",
    "province_coordinates\n",
    "\n",
    "freqProvinces['lat'] = freqProvinces['code-ISO province'].map(mapping_lat)\n",
    "freqProvinces['lon'] = freqProvinces['code-ISO province'].map(mapping_lon)\n",
    "\n",
    "freqProvinces\n"
   ]
  },
  {
   "cell_type": "code",
   "execution_count": 7,
   "metadata": {},
   "outputs": [
    {
     "data": {
      "application/vnd.plotly.v1+json": {
       "config": {
        "plotlyServerURL": "https://plot.ly"
       },
       "data": [
        {
         "lat": [
          55
         ],
         "locationmode": "ISO-3",
         "lon": [
          -106
         ],
         "marker": {
          "size": 8
         },
         "mode": "markers+text",
         "name": "CA-SK",
         "text": "CA-SK",
         "type": "scattergeo"
        },
        {
         "lat": [
          46.25
         ],
         "locationmode": "ISO-3",
         "lon": [
          -63
         ],
         "marker": {
          "size": 8
         },
         "mode": "markers+text",
         "name": "CA-PE",
         "text": "CA-PE",
         "type": "scattergeo"
        },
        {
         "lat": [
          50
         ],
         "locationmode": "ISO-3",
         "lon": [
          -85
         ],
         "marker": {
          "size": 8
         },
         "mode": "markers+text",
         "name": "CA-ON",
         "text": "CA-ON",
         "type": "scattergeo"
        },
        {
         "lat": [
          45
         ],
         "locationmode": "ISO-3",
         "lon": [
          -63
         ],
         "marker": {
          "size": 8
         },
         "mode": "markers+text",
         "name": "CA-NS",
         "text": "CA-NS",
         "type": "scattergeo"
        },
        {
         "lat": [
          55
         ],
         "locationmode": "ISO-3",
         "lon": [
          -115
         ],
         "marker": {
          "size": 8
         },
         "mode": "markers+text",
         "name": "CA-AB",
         "text": "CA-AB",
         "type": "scattergeo"
        },
        {
         "lat": [
          53.726669
         ],
         "locationmode": "ISO-3",
         "lon": [
          -127.647621
         ],
         "marker": {
          "size": 8
         },
         "mode": "markers+text",
         "name": "CA-BC",
         "text": "CA-BC",
         "type": "scattergeo"
        },
        {
         "lat": [
          56.415211
         ],
         "locationmode": "ISO-3",
         "lon": [
          -98.739075
         ],
         "marker": {
          "size": 8
         },
         "mode": "markers+text",
         "name": "CA-MB",
         "text": "CA-MB",
         "type": "scattergeo"
        },
        {
         "lat": [
          53.135509
         ],
         "locationmode": "ISO-3",
         "lon": [
          -57.660435
         ],
         "marker": {
          "size": 8
         },
         "mode": "markers+text",
         "name": "CA-NL",
         "text": "CA-NL",
         "type": "scattergeo"
        },
        {
         "lat": [
          46.49839
         ],
         "locationmode": "ISO-3",
         "lon": [
          -66.159668
         ],
         "marker": {
          "size": 8
         },
         "mode": "markers+text",
         "name": "CA-NB",
         "text": "CA-NB",
         "type": "scattergeo"
        },
        {
         "lat": [
          53
         ],
         "locationmode": "ISO-3",
         "lon": [
          -70
         ],
         "marker": {
          "size": 8
         },
         "mode": "markers+text",
         "name": "CA-QC",
         "text": "CA-QC",
         "type": "scattergeo"
        }
       ],
       "layout": {
        "geo": {
         "scope": "north america",
         "showland": true
        },
        "template": {
         "data": {
          "bar": [
           {
            "error_x": {
             "color": "#2a3f5f"
            },
            "error_y": {
             "color": "#2a3f5f"
            },
            "marker": {
             "line": {
              "color": "#E5ECF6",
              "width": 0.5
             },
             "pattern": {
              "fillmode": "overlay",
              "size": 10,
              "solidity": 0.2
             }
            },
            "type": "bar"
           }
          ],
          "barpolar": [
           {
            "marker": {
             "line": {
              "color": "#E5ECF6",
              "width": 0.5
             },
             "pattern": {
              "fillmode": "overlay",
              "size": 10,
              "solidity": 0.2
             }
            },
            "type": "barpolar"
           }
          ],
          "carpet": [
           {
            "aaxis": {
             "endlinecolor": "#2a3f5f",
             "gridcolor": "white",
             "linecolor": "white",
             "minorgridcolor": "white",
             "startlinecolor": "#2a3f5f"
            },
            "baxis": {
             "endlinecolor": "#2a3f5f",
             "gridcolor": "white",
             "linecolor": "white",
             "minorgridcolor": "white",
             "startlinecolor": "#2a3f5f"
            },
            "type": "carpet"
           }
          ],
          "choropleth": [
           {
            "colorbar": {
             "outlinewidth": 0,
             "ticks": ""
            },
            "type": "choropleth"
           }
          ],
          "contour": [
           {
            "colorbar": {
             "outlinewidth": 0,
             "ticks": ""
            },
            "colorscale": [
             [
              0,
              "#0d0887"
             ],
             [
              0.1111111111111111,
              "#46039f"
             ],
             [
              0.2222222222222222,
              "#7201a8"
             ],
             [
              0.3333333333333333,
              "#9c179e"
             ],
             [
              0.4444444444444444,
              "#bd3786"
             ],
             [
              0.5555555555555556,
              "#d8576b"
             ],
             [
              0.6666666666666666,
              "#ed7953"
             ],
             [
              0.7777777777777778,
              "#fb9f3a"
             ],
             [
              0.8888888888888888,
              "#fdca26"
             ],
             [
              1,
              "#f0f921"
             ]
            ],
            "type": "contour"
           }
          ],
          "contourcarpet": [
           {
            "colorbar": {
             "outlinewidth": 0,
             "ticks": ""
            },
            "type": "contourcarpet"
           }
          ],
          "heatmap": [
           {
            "colorbar": {
             "outlinewidth": 0,
             "ticks": ""
            },
            "colorscale": [
             [
              0,
              "#0d0887"
             ],
             [
              0.1111111111111111,
              "#46039f"
             ],
             [
              0.2222222222222222,
              "#7201a8"
             ],
             [
              0.3333333333333333,
              "#9c179e"
             ],
             [
              0.4444444444444444,
              "#bd3786"
             ],
             [
              0.5555555555555556,
              "#d8576b"
             ],
             [
              0.6666666666666666,
              "#ed7953"
             ],
             [
              0.7777777777777778,
              "#fb9f3a"
             ],
             [
              0.8888888888888888,
              "#fdca26"
             ],
             [
              1,
              "#f0f921"
             ]
            ],
            "type": "heatmap"
           }
          ],
          "heatmapgl": [
           {
            "colorbar": {
             "outlinewidth": 0,
             "ticks": ""
            },
            "colorscale": [
             [
              0,
              "#0d0887"
             ],
             [
              0.1111111111111111,
              "#46039f"
             ],
             [
              0.2222222222222222,
              "#7201a8"
             ],
             [
              0.3333333333333333,
              "#9c179e"
             ],
             [
              0.4444444444444444,
              "#bd3786"
             ],
             [
              0.5555555555555556,
              "#d8576b"
             ],
             [
              0.6666666666666666,
              "#ed7953"
             ],
             [
              0.7777777777777778,
              "#fb9f3a"
             ],
             [
              0.8888888888888888,
              "#fdca26"
             ],
             [
              1,
              "#f0f921"
             ]
            ],
            "type": "heatmapgl"
           }
          ],
          "histogram": [
           {
            "marker": {
             "pattern": {
              "fillmode": "overlay",
              "size": 10,
              "solidity": 0.2
             }
            },
            "type": "histogram"
           }
          ],
          "histogram2d": [
           {
            "colorbar": {
             "outlinewidth": 0,
             "ticks": ""
            },
            "colorscale": [
             [
              0,
              "#0d0887"
             ],
             [
              0.1111111111111111,
              "#46039f"
             ],
             [
              0.2222222222222222,
              "#7201a8"
             ],
             [
              0.3333333333333333,
              "#9c179e"
             ],
             [
              0.4444444444444444,
              "#bd3786"
             ],
             [
              0.5555555555555556,
              "#d8576b"
             ],
             [
              0.6666666666666666,
              "#ed7953"
             ],
             [
              0.7777777777777778,
              "#fb9f3a"
             ],
             [
              0.8888888888888888,
              "#fdca26"
             ],
             [
              1,
              "#f0f921"
             ]
            ],
            "type": "histogram2d"
           }
          ],
          "histogram2dcontour": [
           {
            "colorbar": {
             "outlinewidth": 0,
             "ticks": ""
            },
            "colorscale": [
             [
              0,
              "#0d0887"
             ],
             [
              0.1111111111111111,
              "#46039f"
             ],
             [
              0.2222222222222222,
              "#7201a8"
             ],
             [
              0.3333333333333333,
              "#9c179e"
             ],
             [
              0.4444444444444444,
              "#bd3786"
             ],
             [
              0.5555555555555556,
              "#d8576b"
             ],
             [
              0.6666666666666666,
              "#ed7953"
             ],
             [
              0.7777777777777778,
              "#fb9f3a"
             ],
             [
              0.8888888888888888,
              "#fdca26"
             ],
             [
              1,
              "#f0f921"
             ]
            ],
            "type": "histogram2dcontour"
           }
          ],
          "mesh3d": [
           {
            "colorbar": {
             "outlinewidth": 0,
             "ticks": ""
            },
            "type": "mesh3d"
           }
          ],
          "parcoords": [
           {
            "line": {
             "colorbar": {
              "outlinewidth": 0,
              "ticks": ""
             }
            },
            "type": "parcoords"
           }
          ],
          "pie": [
           {
            "automargin": true,
            "type": "pie"
           }
          ],
          "scatter": [
           {
            "fillpattern": {
             "fillmode": "overlay",
             "size": 10,
             "solidity": 0.2
            },
            "type": "scatter"
           }
          ],
          "scatter3d": [
           {
            "line": {
             "colorbar": {
              "outlinewidth": 0,
              "ticks": ""
             }
            },
            "marker": {
             "colorbar": {
              "outlinewidth": 0,
              "ticks": ""
             }
            },
            "type": "scatter3d"
           }
          ],
          "scattercarpet": [
           {
            "marker": {
             "colorbar": {
              "outlinewidth": 0,
              "ticks": ""
             }
            },
            "type": "scattercarpet"
           }
          ],
          "scattergeo": [
           {
            "marker": {
             "colorbar": {
              "outlinewidth": 0,
              "ticks": ""
             }
            },
            "type": "scattergeo"
           }
          ],
          "scattergl": [
           {
            "marker": {
             "colorbar": {
              "outlinewidth": 0,
              "ticks": ""
             }
            },
            "type": "scattergl"
           }
          ],
          "scattermapbox": [
           {
            "marker": {
             "colorbar": {
              "outlinewidth": 0,
              "ticks": ""
             }
            },
            "type": "scattermapbox"
           }
          ],
          "scatterpolar": [
           {
            "marker": {
             "colorbar": {
              "outlinewidth": 0,
              "ticks": ""
             }
            },
            "type": "scatterpolar"
           }
          ],
          "scatterpolargl": [
           {
            "marker": {
             "colorbar": {
              "outlinewidth": 0,
              "ticks": ""
             }
            },
            "type": "scatterpolargl"
           }
          ],
          "scatterternary": [
           {
            "marker": {
             "colorbar": {
              "outlinewidth": 0,
              "ticks": ""
             }
            },
            "type": "scatterternary"
           }
          ],
          "surface": [
           {
            "colorbar": {
             "outlinewidth": 0,
             "ticks": ""
            },
            "colorscale": [
             [
              0,
              "#0d0887"
             ],
             [
              0.1111111111111111,
              "#46039f"
             ],
             [
              0.2222222222222222,
              "#7201a8"
             ],
             [
              0.3333333333333333,
              "#9c179e"
             ],
             [
              0.4444444444444444,
              "#bd3786"
             ],
             [
              0.5555555555555556,
              "#d8576b"
             ],
             [
              0.6666666666666666,
              "#ed7953"
             ],
             [
              0.7777777777777778,
              "#fb9f3a"
             ],
             [
              0.8888888888888888,
              "#fdca26"
             ],
             [
              1,
              "#f0f921"
             ]
            ],
            "type": "surface"
           }
          ],
          "table": [
           {
            "cells": {
             "fill": {
              "color": "#EBF0F8"
             },
             "line": {
              "color": "white"
             }
            },
            "header": {
             "fill": {
              "color": "#C8D4E3"
             },
             "line": {
              "color": "white"
             }
            },
            "type": "table"
           }
          ]
         },
         "layout": {
          "annotationdefaults": {
           "arrowcolor": "#2a3f5f",
           "arrowhead": 0,
           "arrowwidth": 1
          },
          "autotypenumbers": "strict",
          "coloraxis": {
           "colorbar": {
            "outlinewidth": 0,
            "ticks": ""
           }
          },
          "colorscale": {
           "diverging": [
            [
             0,
             "#8e0152"
            ],
            [
             0.1,
             "#c51b7d"
            ],
            [
             0.2,
             "#de77ae"
            ],
            [
             0.3,
             "#f1b6da"
            ],
            [
             0.4,
             "#fde0ef"
            ],
            [
             0.5,
             "#f7f7f7"
            ],
            [
             0.6,
             "#e6f5d0"
            ],
            [
             0.7,
             "#b8e186"
            ],
            [
             0.8,
             "#7fbc41"
            ],
            [
             0.9,
             "#4d9221"
            ],
            [
             1,
             "#276419"
            ]
           ],
           "sequential": [
            [
             0,
             "#0d0887"
            ],
            [
             0.1111111111111111,
             "#46039f"
            ],
            [
             0.2222222222222222,
             "#7201a8"
            ],
            [
             0.3333333333333333,
             "#9c179e"
            ],
            [
             0.4444444444444444,
             "#bd3786"
            ],
            [
             0.5555555555555556,
             "#d8576b"
            ],
            [
             0.6666666666666666,
             "#ed7953"
            ],
            [
             0.7777777777777778,
             "#fb9f3a"
            ],
            [
             0.8888888888888888,
             "#fdca26"
            ],
            [
             1,
             "#f0f921"
            ]
           ],
           "sequentialminus": [
            [
             0,
             "#0d0887"
            ],
            [
             0.1111111111111111,
             "#46039f"
            ],
            [
             0.2222222222222222,
             "#7201a8"
            ],
            [
             0.3333333333333333,
             "#9c179e"
            ],
            [
             0.4444444444444444,
             "#bd3786"
            ],
            [
             0.5555555555555556,
             "#d8576b"
            ],
            [
             0.6666666666666666,
             "#ed7953"
            ],
            [
             0.7777777777777778,
             "#fb9f3a"
            ],
            [
             0.8888888888888888,
             "#fdca26"
            ],
            [
             1,
             "#f0f921"
            ]
           ]
          },
          "colorway": [
           "#636efa",
           "#EF553B",
           "#00cc96",
           "#ab63fa",
           "#FFA15A",
           "#19d3f3",
           "#FF6692",
           "#B6E880",
           "#FF97FF",
           "#FECB52"
          ],
          "font": {
           "color": "#2a3f5f"
          },
          "geo": {
           "bgcolor": "white",
           "lakecolor": "white",
           "landcolor": "#E5ECF6",
           "showlakes": true,
           "showland": true,
           "subunitcolor": "white"
          },
          "hoverlabel": {
           "align": "left"
          },
          "hovermode": "closest",
          "mapbox": {
           "style": "light"
          },
          "paper_bgcolor": "white",
          "plot_bgcolor": "#E5ECF6",
          "polar": {
           "angularaxis": {
            "gridcolor": "white",
            "linecolor": "white",
            "ticks": ""
           },
           "bgcolor": "#E5ECF6",
           "radialaxis": {
            "gridcolor": "white",
            "linecolor": "white",
            "ticks": ""
           }
          },
          "scene": {
           "xaxis": {
            "backgroundcolor": "#E5ECF6",
            "gridcolor": "white",
            "gridwidth": 2,
            "linecolor": "white",
            "showbackground": true,
            "ticks": "",
            "zerolinecolor": "white"
           },
           "yaxis": {
            "backgroundcolor": "#E5ECF6",
            "gridcolor": "white",
            "gridwidth": 2,
            "linecolor": "white",
            "showbackground": true,
            "ticks": "",
            "zerolinecolor": "white"
           },
           "zaxis": {
            "backgroundcolor": "#E5ECF6",
            "gridcolor": "white",
            "gridwidth": 2,
            "linecolor": "white",
            "showbackground": true,
            "ticks": "",
            "zerolinecolor": "white"
           }
          },
          "shapedefaults": {
           "line": {
            "color": "#2a3f5f"
           }
          },
          "ternary": {
           "aaxis": {
            "gridcolor": "white",
            "linecolor": "white",
            "ticks": ""
           },
           "baxis": {
            "gridcolor": "white",
            "linecolor": "white",
            "ticks": ""
           },
           "bgcolor": "#E5ECF6",
           "caxis": {
            "gridcolor": "white",
            "linecolor": "white",
            "ticks": ""
           }
          },
          "title": {
           "x": 0.05
          },
          "xaxis": {
           "automargin": true,
           "gridcolor": "white",
           "linecolor": "white",
           "ticks": "",
           "title": {
            "standoff": 15
           },
           "zerolinecolor": "white",
           "zerolinewidth": 2
          },
          "yaxis": {
           "automargin": true,
           "gridcolor": "white",
           "linecolor": "white",
           "ticks": "",
           "title": {
            "standoff": 15
           },
           "zerolinecolor": "white",
           "zerolinewidth": 2
          }
         }
        },
        "title": {
         "text": "Canada Provinces and Territories"
        }
       }
      }
     },
     "metadata": {},
     "output_type": "display_data"
    }
   ],
   "source": [
    "px.scatter_geo(\n",
    "        freqProvinces, \n",
    "        locations=\"Code Alpha-3 Pays\",\n",
    "        locationmode = 'ISO-3',\n",
    "        hover_name = 'Pays',\n",
    "        size=\"count\",\n",
    "        size_max = 50,\n",
    "        height=440,\n",
    "        projection = 'equirectangular',\n",
    "    )"
   ]
  },
  {
   "cell_type": "code",
   "execution_count": null,
   "metadata": {},
   "outputs": [],
   "source": []
  }
 ],
 "metadata": {
  "kernelspec": {
   "display_name": "Python 3",
   "language": "python",
   "name": "python3"
  },
  "language_info": {
   "codemirror_mode": {
    "name": "ipython",
    "version": 3
   },
   "file_extension": ".py",
   "mimetype": "text/x-python",
   "name": "python",
   "nbconvert_exporter": "python",
   "pygments_lexer": "ipython3",
   "version": "3.11.5"
  },
  "orig_nbformat": 4
 },
 "nbformat": 4,
 "nbformat_minor": 2
}
